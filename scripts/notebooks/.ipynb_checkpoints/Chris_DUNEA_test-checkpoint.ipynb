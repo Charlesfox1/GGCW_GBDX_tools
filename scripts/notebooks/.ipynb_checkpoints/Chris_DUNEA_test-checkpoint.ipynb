{
 "cells": [
  {
   "cell_type": "code",
   "execution_count": null,
   "metadata": {},
   "outputs": [
    {
     "name": "stdout",
     "output_type": "stream",
     "text": [
      "Fetching Image... 308 tiles\n"
     ]
    }
   ],
   "source": [
    "from gbdxtools.task import env\n",
    "from gbdxtools import CatalogImage\n",
    "%matplotlib inline\n",
    "\n",
    "catalog_id = env.inputs.get('catalog_id', '1040050006DCE400')\n",
    "bbox = env.inputs.get('bbox', '4.309387207031251, 52.125373823109854, 4.379425048828126, 52.16729892540329')\n",
    "\n",
    "image = CatalogImage(catalog_id, band_type=\"MS\", bbox=map(float, bbox.split(\",\")))\n",
    "image.plot(w=10, h=10)"
   ]
  },
  {
   "cell_type": "code",
   "execution_count": null,
   "metadata": {
    "collapsed": true
   },
   "outputs": [],
   "source": []
  }
 ],
 "metadata": {
  "kernelspec": {
   "display_name": "Python 2",
   "language": "python",
   "name": "python2"
  },
  "language_info": {
   "codemirror_mode": {
    "name": "ipython",
    "version": 2
   },
   "file_extension": ".py",
   "mimetype": "text/x-python",
   "name": "python",
   "nbconvert_exporter": "python",
   "pygments_lexer": "ipython2",
   "version": "2.7.14"
  }
 },
 "nbformat": 4,
 "nbformat_minor": 2
}
