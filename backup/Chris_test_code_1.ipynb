{
 "cells": [
  {
   "cell_type": "code",
   "execution_count": 2,
   "metadata": {},
   "outputs": [],
   "source": [
    "import rasterio\n",
    "from rasterio.mask import mask\n",
    "import geopandas as gpd\n",
    "from shapely.geometry import box, shape\n",
    "from gbdxtools import Interface\n",
    "from gbdxtools import CatalogImage\n",
    "from gbdxtools.task import env\n",
    "from shapely.ops import cascaded_union\n",
    "import fiona\n",
    "from shapely.geometry import mapping, Polygon\n",
    "import matplotlib.pyplot as plt\n",
    "import numpy as np\n",
    "from skimage import filters, morphology\n",
    "import gdal\n",
    "import ogr, osr\n",
    "from rasterio.plot import show\n",
    "\n",
    "# connect to gbdx\n",
    "gbdx = Interface()"
   ]
  },
  {
   "cell_type": "code",
   "execution_count": 3,
   "metadata": {},
   "outputs": [],
   "source": [
    "#get image\n",
    "catalog_id = env.inputs.get('catalog_id', '1030050045F94600')\n",
    "bbox = env.inputs.get('bbox', '4.795532226562501, 52.36496281504866, 4.888916015625001, 52.41487819320523')\n",
    "\n",
    "image = CatalogImage(catalog_id, band_type=\"MS\", bbox=map(float, bbox.split(\",\")))"
   ]
  },
  {
   "cell_type": "markdown",
   "metadata": {},
   "source": [
    "# test OSM get\n"
   ]
  },
  {
   "cell_type": "code",
   "execution_count": null,
   "metadata": {},
   "outputs": [],
   "source": [
    "bb = nf.get_city_bounding_box('rotterdam')\n",
    "\n",
    "bbox_wkt = box(*bb).wkt"
   ]
  },
  {
   "cell_type": "code",
   "execution_count": null,
   "metadata": {},
   "outputs": [],
   "source": [
    "geojson_obj = gbdx.vectors.query(bbox_wkt,index=\"vector-osm-*\", \n",
    "                                 query= \"ingest_source:OSM AND attributes.highway:service AND geom_type:Polygon\",\n",
    "                                 count = 1e6)"
   ]
  },
  {
   "cell_type": "code",
   "execution_count": null,
   "metadata": {},
   "outputs": [],
   "source": []
  },
  {
   "cell_type": "code",
   "execution_count": 15,
   "metadata": {},
   "outputs": [
    {
     "name": "stdout",
     "output_type": "stream",
     "text": [
      "Fetching Image... 153 tiles\n"
     ]
    },
    {
     "data": {
      "image/png": "[encoded data removed]",
      "text/plain": [
       "<matplotlib.figure.Figure at 0x7fdb18e8cad0>"
      ]
     },
     "metadata": {},
     "output_type": "display_data"
    }
   ],
   "source": [
    "import rasterio\n",
    "from rasterio.mask import mask\n",
    "import geopandas as gpd\n",
    "shapefile = gpd.read_file(\"extraction.shp\")\n",
    "# extract the geometry in GeoJSON format\n",
    "geoms = shapefile.geometry.values # list of shapely geometries\n",
    "geometry = geoms[0] # shapely geometry\n",
    "# transform to GeJSON format\n",
    "from shapely.geometry import mapping\n",
    "geoms = [mapping(geoms[0])]\n",
    "# extract the raster values values within the polygon \n",
    "with rasterio.open(\"raster.tif\") as src:\n",
    "     out_image, out_transform = mask(src, geoms, crop=True)\n"
   ]
  },
  {
   "cell_type": "code",
   "execution_count": null,
   "metadata": {},
   "outputs": [],
   "source": []
  }
 ],
 "metadata": {
  "kernelspec": {
   "display_name": "Python 2",
   "language": "python",
   "name": "python2"
  },
  "language_info": {
   "codemirror_mode": {
    "name": "ipython",
    "version": 2
   },
   "file_extension": ".py",
   "mimetype": "text/x-python",
   "name": "python",
   "nbconvert_exporter": "python",
   "pygments_lexer": "ipython2",
   "version": "2.7.14"
  }
 },
 "nbformat": 4,
 "nbformat_minor": 2
}
