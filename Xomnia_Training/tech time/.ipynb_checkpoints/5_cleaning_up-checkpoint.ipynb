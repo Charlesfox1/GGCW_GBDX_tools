{
 "cells": [
  {
   "cell_type": "markdown",
   "metadata": {
    "slideshow": {
     "slide_type": "slide"
    }
   },
   "source": [
    "## Cleaning up data\n",
    "\n",
    "* Once you have a `pd.DataFrame`, there is often a lot of work in cleaning up data\n",
    "* Column names, overall structure, data types, missing values and redundant or coupled columns are things to consider here"
   ]
  },
  {
   "cell_type": "code",
   "execution_count": null,
   "metadata": {
    "slideshow": {
     "slide_type": "-"
    }
   },
   "outputs": [],
   "source": [
    "import pandas as pd\n",
    "\n",
    "url = \"https://en.wikipedia.org/wiki/List_of_world_records_in_swimming\"\n",
    "tables = pd.read_html(url)\n",
    "records = tables[0]\n",
    "records.head(5)"
   ]
  },
  {
   "cell_type": "markdown",
   "metadata": {
    "slideshow": {
     "slide_type": "subslide"
    }
   },
   "source": [
    "## Column names\n",
    "\n",
    "* You can directly assign to `columns` or use the rename function"
   ]
  },
  {
   "cell_type": "code",
   "execution_count": null,
   "metadata": {
    "slideshow": {
     "slide_type": "-"
    }
   },
   "outputs": [],
   "source": [
    "records.rename(columns = {\n",
    "    0: \"Event\"\n",
    "}).head(5)"
   ]
  },
  {
   "cell_type": "code",
   "execution_count": null,
   "metadata": {},
   "outputs": [],
   "source": [
    "records.columns = records.loc[0,:].values\n",
    "records.head()"
   ]
  },
  {
   "cell_type": "markdown",
   "metadata": {
    "collapsed": true,
    "slideshow": {
     "slide_type": "slide"
    }
   },
   "source": [
    "## Dropping something\n",
    "\n",
    "* You can `.drop` with `axis=0` (rows), or with `axis=1` (columns)\n",
    "* This creates a new copy, so it can be chained with other methods"
   ]
  },
  {
   "cell_type": "code",
   "execution_count": null,
   "metadata": {
    "slideshow": {
     "slide_type": "-"
    }
   },
   "outputs": [],
   "source": [
    "records.drop([0], axis=0).drop([\"Ref\"], axis=1).head()"
   ]
  },
  {
   "cell_type": "markdown",
   "metadata": {
    "slideshow": {
     "slide_type": "subslide"
    }
   },
   "source": [
    "## Copying and chaining\n",
    "\n",
    "* Method chaining doesn't introduce new names\n",
    "* Use `copy()` to make sure you don't destroy the original dataset"
   ]
  },
  {
   "cell_type": "code",
   "execution_count": null,
   "metadata": {
    "slideshow": {
     "slide_type": "-"
    }
   },
   "outputs": [],
   "source": [
    "records.loc[0]"
   ]
  },
  {
   "cell_type": "code",
   "execution_count": null,
   "metadata": {
    "scrolled": true,
    "slideshow": {
     "slide_type": "-"
    }
   },
   "outputs": [],
   "source": [
    "c = records.copy()\n",
    "c.columns = c.loc[0]\n",
    "df = c.rename(columns = {\n",
    "    pd.np.nan: \"round\"\n",
    "}).rename(columns = lambda x: x.lower())\n",
    "\n",
    "df.head()"
   ]
  },
  {
   "cell_type": "markdown",
   "metadata": {
    "slideshow": {
     "slide_type": "subslide"
    }
   },
   "source": [
    "## Filling `nan` values\n",
    "\n",
    "* **PROBLEMO** Naming a column after a method in a dataframe doesn't work well\n",
    "* `.fillna()` fills up missing values"
   ]
  },
  {
   "cell_type": "code",
   "execution_count": null,
   "metadata": {
    "slideshow": {
     "slide_type": "-"
    }
   },
   "outputs": [],
   "source": [
    "df.round\n",
    "\n",
    "## df[[\"round\"]] = df[[\"round\"]].fillna(\"finals\")"
   ]
  },
  {
   "cell_type": "markdown",
   "metadata": {
    "slideshow": {
     "slide_type": "slide"
    }
   },
   "source": [
    "## Parsing date and numeric columns\n",
    "\n",
    "* `pd.to_datetime` and `pd.to_numeric` are functions to parse text that should be a number or a date\n",
    "* You can overwrite a previous column or add a new one to add this data"
   ]
  },
  {
   "cell_type": "code",
   "execution_count": null,
   "metadata": {
    "collapsed": true,
    "slideshow": {
     "slide_type": "-"
    }
   },
   "outputs": [],
   "source": [
    "pd.to_datetime(df.date, errors=\"coerce\")"
   ]
  },
  {
   "cell_type": "markdown",
   "metadata": {
    "slideshow": {
     "slide_type": "subslide"
    }
   },
   "source": [
    "## Extracting information from column columns\n",
    "\n",
    "* A text column has several usefull methods that you can access under `df.[column-name].str.`\n",
    "* These can help you split, parse and transform data in columns"
   ]
  },
  {
   "cell_type": "code",
   "execution_count": null,
   "metadata": {
    "collapsed": true,
    "slideshow": {
     "slide_type": "-"
    }
   },
   "outputs": [],
   "source": [
    "df.location.str.split(\"!\")"
   ]
  },
  {
   "cell_type": "markdown",
   "metadata": {
    "slideshow": {
     "slide_type": "subslide"
    }
   },
   "source": [
    "## Extracting information from column columns\n",
    "\n",
    "* A text column has several useful methods that you can access under `df.[column-name].str.`\n",
    "* These can help you split, parse and transform data in columns"
   ]
  },
  {
   "cell_type": "code",
   "execution_count": null,
   "metadata": {
    "collapsed": true,
    "slideshow": {
     "slide_type": "-"
    }
   },
   "outputs": [],
   "source": [
    "df.event.str.extractall(\"(\\d{2,3})\\s*m\")"
   ]
  },
  {
   "cell_type": "markdown",
   "metadata": {
    "slideshow": {
     "slide_type": "slide"
    }
   },
   "source": [
    "## Combining dataframes\n",
    "\n",
    "* There are a couple of methods for combining dataframes, often you will `.join` different frames together\n",
    "* `pd.concat` will combine our list of dataframes in a single frame"
   ]
  },
  {
   "cell_type": "code",
   "execution_count": null,
   "metadata": {
    "collapsed": true,
    "slideshow": {
     "slide_type": "-"
    }
   },
   "outputs": [],
   "source": [
    "def set_columns(table):\n",
    "    try:\n",
    "        table.columns = c.columns\n",
    "    except:\n",
    "        # display(table.head(2))\n",
    "        return None\n",
    "    return table\n",
    "\n",
    "records_dirty = pd.concat([set_columns(t) for t in tables])\n",
    "records_dirty.to_csv(\"../project/data/raw/records_dirty.csv\", index=False)\n",
    "\n",
    "records_dirty.sample(10)"
   ]
  },
  {
   "cell_type": "markdown",
   "metadata": {
    "slideshow": {
     "slide_type": "slide"
    }
   },
   "source": [
    "## Exercise\n",
    "\n",
    "* Download the swimming data from https://en.wikipedia.org/wiki/List_of_world_records_in_swimming\n",
    "* Combine the frames with the records and clean up the data in any way you think is necessary\n",
    "* Give a ranking of the swimming speed over different disciplines\n",
    "* Give an estimate of how much time a turning point adds to swimming a distance\n",
    "* Give an estimate of how much time a start adds to adds to swimming \n",
    "* Save it in a file called `swimming_records.feather`"
   ]
  }
 ],
 "metadata": {
  "celltoolbar": "Slideshow",
  "kernelspec": {
   "display_name": "Python 3",
   "language": "python",
   "name": "python3"
  },
  "language_info": {
   "codemirror_mode": {
    "name": "ipython",
    "version": 3
   },
   "file_extension": ".py",
   "mimetype": "text/x-python",
   "name": "python",
   "nbconvert_exporter": "python",
   "pygments_lexer": "ipython3",
   "version": "3.6.3"
  }
 },
 "nbformat": 4,
 "nbformat_minor": 2
}
