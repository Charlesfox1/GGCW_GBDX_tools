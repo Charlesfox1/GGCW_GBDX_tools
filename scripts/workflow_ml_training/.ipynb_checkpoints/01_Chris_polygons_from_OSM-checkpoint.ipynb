{
 "cells": [
  {
   "cell_type": "markdown",
   "metadata": {},
   "source": [
    "# Get polygons and images from GBDX\n",
    "\n",
    "Some of the functions used in this notebook can be found in the nice_functions.py file in the Functions folder"
   ]
  },
  {
   "cell_type": "code",
   "execution_count": 14,
   "metadata": {},
   "outputs": [
    {
     "name": "stdout",
     "output_type": "stream",
     "text": [
      "\u001b[33mYou are using pip version 9.0.1, however version 9.0.3 is available.\r\n",
      "You should consider upgrading via the 'pip install --upgrade pip' command.\u001b[0m\r\n"
     ]
    }
   ],
   "source": [
    "!pip freeze > stable-req.txt\n"
   ]
  },
  {
   "cell_type": "code",
   "execution_count": 12,
   "metadata": {},
   "outputs": [],
   "source": [
    "### set some parameters\n",
    "city = 'houston'\n",
    "\n",
    "buffer_zone = -5\n",
    "\n",
    "min_size = .2\n",
    "\n",
    "sample_size = 20\n"
   ]
  },
  {
   "cell_type": "code",
   "execution_count": 1,
   "metadata": {},
   "outputs": [],
   "source": [
    "### home made functions\n",
    "import nice_functions as nf\n",
    "\n",
    "reload(nf)\n",
    "\n",
    "import get_OSM_polygons as getOSM\n",
    "\n",
    "reload(getOSM)\n",
    "\n",
    "### other libraries\n",
    "\n",
    "import pandas as pd\n",
    "import numpy as np\n",
    "\n",
    "from shapely.ops import transform\n",
    "from shapely.geometry import mapping, Polygon, box, shape\n",
    "import matplotlib.pyplot as plt\n",
    "\n",
    "import random\n",
    "\n",
    "import fiona\n",
    "\n",
    "import pickle\n",
    "\n",
    "from gbdxtools import Interface\n",
    "from gbdxtools.task import env\n",
    "from gbdxtools import CatalogImage\n",
    "\n",
    "gbdx = Interface()"
   ]
  },
  {
   "cell_type": "code",
   "execution_count": 4,
   "metadata": {},
   "outputs": [],
   "source": [
    "\n",
    "################ this takes a long time\n",
    "\n",
    "labels = ['forest', 'grass', 'water' , 'building']\n",
    "\n",
    "dict_size = {'forest': 1 , 'grass': .6, 'water': 1, 'building': .8}\n",
    "\n",
    "geom_list_selection_all = []\n",
    "\n",
    "selection_all = pd.DataFrame()\n",
    "\n",
    "for label in labels: \n",
    "    \n",
    "    selection, geojson_select, geom_list_selection,UTM_EPSG_code,project_utm,project_wgs = getOSM.get_OSM_polygons(city = city, type_query = label,min_size = dict_size[label])\n",
    "    \n",
    "           \n",
    "    geom_list_selection_all.extend(geom_list_selection[1:sample_size])\n",
    "    \n",
    "    selection_all = selection_all.append(selection[1:sample_size])\n",
    "    \n",
    "################ this takes a long time    \n",
    "\n",
    "selection_all = selection_all.reset_index().drop('index',axis = 1)"
   ]
  },
  {
   "cell_type": "code",
   "execution_count": 6,
   "metadata": {},
   "outputs": [],
   "source": [
    "### write data to pickle\n",
    "\n",
    "import pickle\n",
    "\n",
    "with open('Pickle/selection_objects_all_{}.pickle'.format(city), 'wb') as handle:\n",
    "    pickle.dump(selection_all, handle, protocol=pickle.HIGHEST_PROTOCOL)\n",
    "    \n",
    "with open('Pickle/geom_list_selection_all{}.pickle'.format(city), 'wb') as handle:\n",
    "    pickle.dump(geom_list_selection_all, handle, protocol=pickle.HIGHEST_PROTOCOL)\n",
    "\n",
    "with open('Pickle/project_utm_{}.pickle'.format(city), 'wb') as handle:\n",
    "    pickle.dump(project_utm, handle, protocol=pickle.HIGHEST_PROTOCOL)\n",
    "    \n",
    "with open('Pickle/project_wgs_{}.pickle'.format(city), 'wb') as handle:\n",
    "    pickle.dump(project_wgs, handle, protocol=pickle.HIGHEST_PROTOCOL)\n",
    "    \n",
    "    \n",
    "with open('Pickle/UTM_EPSG_code_{}.pickle'.format(city), 'wb') as handle:\n",
    "    pickle.dump(UTM_EPSG_code, handle, protocol=pickle.HIGHEST_PROTOCOL)"
   ]
  }
 ],
 "metadata": {
  "kernelspec": {
   "display_name": "Python 2",
   "language": "python",
   "name": "python2"
  },
  "language_info": {
   "codemirror_mode": {
    "name": "ipython",
    "version": 2
   },
   "file_extension": ".py",
   "mimetype": "text/x-python",
   "name": "python",
   "nbconvert_exporter": "python",
   "pygments_lexer": "ipython2",
   "version": "2.7.14"
  }
 },
 "nbformat": 4,
 "nbformat_minor": 2
}
