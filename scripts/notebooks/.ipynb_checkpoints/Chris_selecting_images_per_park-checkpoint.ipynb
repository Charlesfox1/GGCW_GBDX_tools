{
 "cells": [
  {
   "cell_type": "code",
   "execution_count": 3,
   "metadata": {},
   "outputs": [],
   "source": [
    "### home made functions\n",
    "import nice_functions as nf\n",
    "\n",
    "reload(nf)\n",
    "\n",
    "import get_OSM_polygons as getOSM\n",
    "\n",
    "reload(getOSM)\n",
    "\n",
    "### other libraries\n",
    "from collections import namedtuple\n",
    "\n",
    "import pandas as pd\n",
    "import numpy as np\n",
    "\n",
    "from shapely.ops import transform\n",
    "from shapely.geometry import mapping, Polygon, box, shape\n",
    "import matplotlib.pyplot as plt\n",
    "\n",
    "from matplotlib import pyplot\n",
    "\n",
    "import random\n",
    "\n",
    "import fiona\n",
    "\n",
    "import pickle\n",
    "\n",
    "from gbdxtools import Interface\n",
    "from gbdxtools.task import env\n",
    "from gbdxtools import CatalogImage\n",
    "\n",
    "gbdx = Interface()"
   ]
  },
  {
   "cell_type": "code",
   "execution_count": 4,
   "metadata": {},
   "outputs": [],
   "source": [
    "bbox_city = nf.get_city_bounding_box('amsterdam')\n",
    "\n",
    "\n",
    "epsg = nf.get_projections_and_UTM(bbox_city)"
   ]
  },
  {
   "cell_type": "code",
   "execution_count": 5,
   "metadata": {},
   "outputs": [],
   "source": [
    "multipolygon_type = pickle.load(open( \"Pickle/multipolygon_type.p\", \"rb\" ))\n",
    "\n",
    "bbox_wkt = box(*bbox_city).wkt"
   ]
  },
  {
   "cell_type": "code",
   "execution_count": 6,
   "metadata": {},
   "outputs": [],
   "source": [
    "query = \"(item_type:WV03_VNIR OR WV02)\"\n",
    "query += \" AND NOT item_type:IDAHOImage AND item_type:DigitalGlobeProduct\"   \n",
    "results = gbdx.vectors.query(bbox_wkt, query)"
   ]
  },
  {
   "cell_type": "code",
   "execution_count": 303,
   "metadata": {},
   "outputs": [],
   "source": [
    "\n",
    "# query images that cover the park\n",
    "# query = \"(item_type:WV03_VNIR OR WV02 OR QB02 OR GE01)\"\n",
    "\n",
    "\n",
    "# calculate the overlap between image and park\n",
    "\n",
    "Rectangle = namedtuple('Rectangle', 'xmin ymin xmax ymax')\n",
    "\n",
    "ra = Rectangle(bbox_city[0],bbox_city[1],bbox_city[2],bbox_city[3]) # set wgs park area in rectangle\n",
    "\n",
    "total_area = ((ra.xmax-ra.xmin)*(ra.ymax-ra.ymin))\n",
    "\n",
    "\n",
    "\n",
    "# create dataframe for image metadata\n",
    "images_df = pd.DataFrame(columns=['id','month','year','type','resolution','cloud cover','overlap','check'])\n",
    "\n",
    "i = 1\n",
    "\n",
    "# loop over all found images and load metadata in dataframe\n",
    "# also perform a test to find the right images\n",
    "for r in results:\n",
    "    props = r['properties']\n",
    "    geom = r['geometry']\n",
    "\n",
    "    coordinates_image = geom['coordinates'][0][0]\n",
    "    df_overlap = pd.DataFrame.from_records(coordinates_image,columns = ['x','y'])\n",
    "\n",
    "    rb = Rectangle(df_overlap.x.min(), df_overlap.y.min(), df_overlap.x.max(), df_overlap.y.max())\n",
    "\n",
    "\n",
    "\n",
    "    total_overlap = area_overlap(ra, rb)\n",
    "\n",
    "    if total_overlap is None:\n",
    "        fraction_overlap = 0\n",
    "    else:\n",
    "        fraction_overlap = total_overlap/total_area\n",
    "      \n",
    "  \n",
    "\n",
    "    images_df = images_df.append({'id': props['attributes']['catalogID'],'month':props['item_date'][5:7],'year':props['item_date'][0:4],\n",
    "                   'type':props['item_type'][1],'resolution':props['attributes']['resolution_dbl'],\n",
    "                   'cloud cover':props['attributes']['cloudCover_int'],'overlap': fraction_overlap,\n",
    "                    # perform check on, cloud cover, month (summer), and overlap \n",
    "                    'check':props['attributes']['cloudCover_int'] < 10 and int(props['item_date'][5:7]) >= 5 and int(props['item_date'][5:7]) <= 11 and \n",
    "                   fraction_overlap >.2},ignore_index=True)\n",
    "\n",
    "\n",
    "# select only the images that survive the test\n",
    "selection_images = images_df.reset_index().loc[images_df.check == True]\n",
    "\n",
    "# group by image id because \n",
    "selection_images =  selection_images.groupby(['id'],sort=['year','month'],as_index=False).first().sort_values(['year','month'], ascending=False).reset_index().drop('level_0', axis='columns')\n",
    "\n",
    "\n",
    "for r in selection_images:\n",
    "\n",
    "    # calculate the overlap between image and park\n",
    "\n",
    "\n",
    "\n",
    "    x1,y1 = box(df_overlap.x.min(), df_overlap.y.min(), df_overlap.x.max(), df_overlap.y.max()).exterior.xy\n",
    "\n",
    "\n",
    "    ax = fig.add_subplot(len(selection_images),1,i)\n",
    "    ax.plot(x, y, color='#6699cc', alpha=0.7,\n",
    "        linewidth=3, solid_capstyle='round', zorder=2)\n",
    "\n",
    "    ax.plot(x1,y1, color='#6699cc', alpha=0.7,\n",
    "        linewidth=3, solid_capstyle='round', zorder=2)\n",
    "\n",
    "\n",
    "    ax.plot()\n",
    "    ax.set_title('Polygon')\n",
    "    plt.show()\n"
   ]
  },
  {
   "cell_type": "code",
   "execution_count": 301,
   "metadata": {},
   "outputs": [
    {
     "data": {
      "text/plain": [
       "0    37\n",
       "1    43\n",
       "2    98\n",
       "3    58\n",
       "4    69\n",
       "5    68\n",
       "6    72\n",
       "7    66\n",
       "8    76\n",
       "9    85\n",
       "Name: index, dtype: int64"
      ]
     },
     "execution_count": 301,
     "metadata": {},
     "output_type": "execute_result"
    }
   ],
   "source": [
    "selection_images['index']"
   ]
  },
  {
   "cell_type": "code",
   "execution_count": 302,
   "metadata": {},
   "outputs": [
    {
     "data": {
      "image/png": "[encoded data removed]",
      "text/plain": [
       "<Figure size 450x450 with 1 Axes>"
      ]
     },
     "metadata": {},
     "output_type": "display_data"
    }
   ],
   "source": [
    "for i in selection_images['index']:\n",
    "\n",
    "    coordinates_image = results[i]['geometry']['coordinates'][0][0]\n",
    "\n",
    "    df_overlap = pd.DataFrame.from_records(coordinates_image,columns = ['x','y'])\n",
    "\n",
    "    rb = Rectangle(df_overlap.x.min(), df_overlap.y.min(), df_overlap.x.max(), df_overlap.y.max())\n",
    "\n",
    "    x,y = box(df_overlap.x.min(), df_overlap.y.min(), df_overlap.x.max(), df_overlap.y.max()).exterior.xy\n",
    "\n",
    "    x1,y1 = box(bbox_city[0],bbox_city[1],bbox_city[2],bbox_city[3]).exterior.xy\n",
    "\n",
    "    total_area = ((ra.xmax-ra.xmin)*(ra.ymax-ra.ymin))\n",
    "\n",
    "\n",
    "\n",
    "\n",
    "    # calculate the overlap between image and park\n",
    "\n",
    "    Rectangle = namedtuple('Rectangle', 'xmin ymin xmax ymax')\n",
    "\n",
    "    ra = Rectangle(bbox_city[0],bbox_city[1],bbox_city[2],bbox_city[3])\n",
    "\n",
    "    rb = Rectangle(min(x),min(y),max(x),max(y))\n",
    "\n",
    "\n",
    "\n",
    "    fig = plt.figure(1, figsize=(5,5), dpi=90)\n",
    "    ax = fig.add_subplot(111)\n",
    "    ax.plot(x, y, color='red', alpha=0.7,\n",
    "        linewidth=3, solid_capstyle='round', zorder=2)\n",
    "\n",
    "    ax.plot(x1,y1, color='#6699cc', alpha=0.7,\n",
    "        linewidth=3, solid_capstyle='round', zorder=2)\n",
    "\n",
    "    # ax.set_xlim([4.6, 5.2])\n",
    "    # ax.set_ylim([52.2, 52.5])\n",
    "\n",
    "\n",
    "    ax.plot()\n",
    "    ax.set_title('overlap is: '+ str(round(area_overlap(a=ra,b=rb)/total_area,3)*100) + '%')"
   ]
  },
  {
   "cell_type": "code",
   "execution_count": 245,
   "metadata": {},
   "outputs": [],
   "source": [
    "\n",
    "#create function for rewrite \n",
    "\n",
    "if min(x1) < min(x): \n",
    "    base_coords_x = min(x1) \n",
    "else:\n",
    "    base_coords_x = min(x)\n",
    "    \n",
    "if min(y1) < min(y): \n",
    "    base_coords_y = min(y1) \n",
    "else:\n",
    "    base_coords_y = min(y)\n",
    "    \n",
    "\n",
    "\n",
    "x_n = np.subtract(x, base_coords_x)\n",
    "y_n = np.subtract(y, base_coords_y)\n",
    "\n",
    "\n",
    "\n"
   ]
  },
  {
   "cell_type": "code",
   "execution_count": 246,
   "metadata": {},
   "outputs": [
    {
     "data": {
      "text/plain": [
       "Text(0.5,1,'overlap is: 3.2%')"
      ]
     },
     "execution_count": 246,
     "metadata": {},
     "output_type": "execute_result"
    },
    {
     "data": {
      "image/png": "[encoded data removed]",
      "text/plain": [
       "<Figure size 450x450 with 1 Axes>"
      ]
     },
     "metadata": {},
     "output_type": "display_data"
    }
   ],
   "source": [
    "fig1 = plt.figure(1, figsize=(5,5), dpi=90)\n",
    "ax1 = fig1.add_subplot(111)\n",
    "ax1.plot(x_n, y_n, color='red', alpha=0.7,\n",
    "    linewidth=3, solid_capstyle='round', zorder=2)\n",
    "\n",
    "ax1.plot(x_n1,y_n1, color='#6699cc', alpha=0.7,\n",
    "    linewidth=3, solid_capstyle='round', zorder=2)\n",
    "\n",
    "# ax.set_xlim([4.6, 5.2])\n",
    "# ax.set_ylim([52.2, 52.5])\n",
    "\n",
    "\n",
    "ax1.plot()\n",
    "ax1.set_title('overlap is: '+ str(round(area_overlap(a=ra,b=rb)/total_area,3)*100) + '%')\n"
   ]
  },
  {
   "cell_type": "code",
   "execution_count": 294,
   "metadata": {},
   "outputs": [
    {
     "data": {
      "text/plain": [
       "<matplotlib.colorbar.Colorbar at 0x7f2e183f6c10>"
      ]
     },
     "execution_count": 294,
     "metadata": {},
     "output_type": "execute_result"
    },
    {
     "data": {
      "image/png": "[encoded data removed]",
      "text/plain": [
       "<Figure size 432x288 with 2 Axes>"
      ]
     },
     "metadata": {},
     "output_type": "display_data"
    }
   ],
   "source": [
    "from PIL import Image, ImageDraw\n",
    "import copy\n",
    "\n",
    "polygon = [(x_n[i]*1000, y_n[i]*1000) for i in range(len(x_n))]\n",
    "\n",
    "\n",
    "width  = int(max(np.concatenate([x_n,x_n1])) * 1000)\n",
    "\n",
    "height = int(max(np.concatenate([y_n,y_n1])) * 1000)\n",
    "\n",
    "\n",
    "\n",
    "\n",
    "# convert polygon coordinates to raster/array values using ImageDraw\n",
    "img = Image.new('L', (width, height), 0)\n",
    "ImageDraw.Draw(img).polygon(polygon, fill=1)\n",
    "\n",
    "# add other boxes:\n",
    "\n",
    "polygon1 = [(x_n1[i]*1000, y_n1[i]*1000) for i in range(len(x_n))]\n",
    "\n",
    "img1 = Image.new('L', (width, height), 0)\n",
    "ImageDraw.Draw(img1).polygon(polygon1, fill=1)\n",
    "\n",
    "\n",
    "\n",
    "a = np.asarray(img)\n",
    "b = np.asarray(img1)\n",
    "c = a+b\n",
    "\n",
    "\n",
    "plt.imshow(c)\n",
    "plt.colorbar()"
   ]
  },
  {
   "cell_type": "code",
   "execution_count": 289,
   "metadata": {},
   "outputs": [
    {
     "data": {
      "image/png": "[encoded data removed]",
      "text/plain": [
       "<PIL.Image.Image image mode=L size=480x249 at 0x7F2E185D0E50>"
      ]
     },
     "execution_count": 289,
     "metadata": {},
     "output_type": "execute_result"
    }
   ],
   "source": [
    "\n",
    "\n",
    "a = np.asarray(img)\n",
    "b = np.asarray(img1)\n",
    "c = a+b\n",
    "\n",
    "\n",
    "c[c==2] \n",
    "\n",
    "imgOut = Image.fromarray(c)\n",
    "\n",
    "\n",
    "imgOut\n"
   ]
  },
  {
   "cell_type": "code",
   "execution_count": 79,
   "metadata": {},
   "outputs": [],
   "source": [
    "# function for calculating overlap \n",
    "def area_overlap(a, b):  # returns None if rectangles don't intersect\n",
    "    dx = min(a.xmax, b.xmax) - max(a.xmin, b.xmin)\n",
    "    dy = min(a.ymax, b.ymax) - max(a.ymin, b.ymin)\n",
    "    if (dx>=0) and (dy>=0):\n",
    "        return dx*dy "
   ]
  },
  {
   "cell_type": "code",
   "execution_count": 106,
   "metadata": {
    "scrolled": true
   },
   "outputs": [
    {
     "data": {
      "text/html": [
       "<div>\n",
       "<style scoped>\n",
       "    .dataframe tbody tr th:only-of-type {\n",
       "        vertical-align: middle;\n",
       "    }\n",
       "\n",
       "    .dataframe tbody tr th {\n",
       "        vertical-align: top;\n",
       "    }\n",
       "\n",
       "    .dataframe thead th {\n",
       "        text-align: right;\n",
       "    }\n",
       "</style>\n",
       "<table border=\"1\" class=\"dataframe\">\n",
       "  <thead>\n",
       "    <tr style=\"text-align: right;\">\n",
       "      <th></th>\n",
       "      <th>id</th>\n",
       "      <th>index</th>\n",
       "      <th>month</th>\n",
       "      <th>year</th>\n",
       "      <th>type</th>\n",
       "      <th>resolution</th>\n",
       "      <th>cloud cover</th>\n",
       "      <th>overlap</th>\n",
       "      <th>check</th>\n",
       "    </tr>\n",
       "  </thead>\n",
       "  <tbody>\n",
       "    <tr>\n",
       "      <th>0</th>\n",
       "      <td>1040010030B00E00</td>\n",
       "      <td>37</td>\n",
       "      <td>07</td>\n",
       "      <td>2017</td>\n",
       "      <td>WV03_VNIR</td>\n",
       "      <td>0.326</td>\n",
       "      <td>2</td>\n",
       "      <td>0.417835</td>\n",
       "      <td>True</td>\n",
       "    </tr>\n",
       "    <tr>\n",
       "      <th>1</th>\n",
       "      <td>104001002BC52E00</td>\n",
       "      <td>43</td>\n",
       "      <td>05</td>\n",
       "      <td>2017</td>\n",
       "      <td>WV03_VNIR</td>\n",
       "      <td>1.544</td>\n",
       "      <td>0</td>\n",
       "      <td>0.350534</td>\n",
       "      <td>True</td>\n",
       "    </tr>\n",
       "    <tr>\n",
       "      <th>2</th>\n",
       "      <td>103005004DF8CF00</td>\n",
       "      <td>98</td>\n",
       "      <td>05</td>\n",
       "      <td>2016</td>\n",
       "      <td>WV02</td>\n",
       "      <td>2.544</td>\n",
       "      <td>0</td>\n",
       "      <td>0.304551</td>\n",
       "      <td>True</td>\n",
       "    </tr>\n",
       "    <tr>\n",
       "      <th>3</th>\n",
       "      <td>103005004DF97900</td>\n",
       "      <td>58</td>\n",
       "      <td>05</td>\n",
       "      <td>2016</td>\n",
       "      <td>WV02</td>\n",
       "      <td>0.476</td>\n",
       "      <td>0</td>\n",
       "      <td>0.213803</td>\n",
       "      <td>True</td>\n",
       "    </tr>\n",
       "    <tr>\n",
       "      <th>4</th>\n",
       "      <td>1030050045F94600</td>\n",
       "      <td>69</td>\n",
       "      <td>10</td>\n",
       "      <td>2015</td>\n",
       "      <td>WV02</td>\n",
       "      <td>0.620</td>\n",
       "      <td>0</td>\n",
       "      <td>0.752735</td>\n",
       "      <td>True</td>\n",
       "    </tr>\n",
       "    <tr>\n",
       "      <th>5</th>\n",
       "      <td>1030050044F92A00</td>\n",
       "      <td>68</td>\n",
       "      <td>09</td>\n",
       "      <td>2015</td>\n",
       "      <td>WV02</td>\n",
       "      <td>0.636</td>\n",
       "      <td>0</td>\n",
       "      <td>0.618855</td>\n",
       "      <td>True</td>\n",
       "    </tr>\n",
       "    <tr>\n",
       "      <th>6</th>\n",
       "      <td>1030050044F92B00</td>\n",
       "      <td>72</td>\n",
       "      <td>09</td>\n",
       "      <td>2015</td>\n",
       "      <td>WV02</td>\n",
       "      <td>1.871</td>\n",
       "      <td>0</td>\n",
       "      <td>0.352168</td>\n",
       "      <td>True</td>\n",
       "    </tr>\n",
       "    <tr>\n",
       "      <th>7</th>\n",
       "      <td>1030050045F8F100</td>\n",
       "      <td>66</td>\n",
       "      <td>09</td>\n",
       "      <td>2015</td>\n",
       "      <td>WV02</td>\n",
       "      <td>0.488</td>\n",
       "      <td>0</td>\n",
       "      <td>0.440252</td>\n",
       "      <td>True</td>\n",
       "    </tr>\n",
       "    <tr>\n",
       "      <th>8</th>\n",
       "      <td>1030050045F8F200</td>\n",
       "      <td>76</td>\n",
       "      <td>09</td>\n",
       "      <td>2015</td>\n",
       "      <td>WV02</td>\n",
       "      <td>1.869</td>\n",
       "      <td>0</td>\n",
       "      <td>0.417426</td>\n",
       "      <td>True</td>\n",
       "    </tr>\n",
       "    <tr>\n",
       "      <th>9</th>\n",
       "      <td>1030050045F8F400</td>\n",
       "      <td>85</td>\n",
       "      <td>09</td>\n",
       "      <td>2015</td>\n",
       "      <td>WV02</td>\n",
       "      <td>0.498</td>\n",
       "      <td>0</td>\n",
       "      <td>0.216242</td>\n",
       "      <td>True</td>\n",
       "    </tr>\n",
       "  </tbody>\n",
       "</table>\n",
       "</div>"
      ],
      "text/plain": [
       "                 id  index month  year       type  resolution  cloud cover  \\\n",
       "0  1040010030B00E00     37    07  2017  WV03_VNIR       0.326            2   \n",
       "1  104001002BC52E00     43    05  2017  WV03_VNIR       1.544            0   \n",
       "2  103005004DF8CF00     98    05  2016       WV02       2.544            0   \n",
       "3  103005004DF97900     58    05  2016       WV02       0.476            0   \n",
       "4  1030050045F94600     69    10  2015       WV02       0.620            0   \n",
       "5  1030050044F92A00     68    09  2015       WV02       0.636            0   \n",
       "6  1030050044F92B00     72    09  2015       WV02       1.871            0   \n",
       "7  1030050045F8F100     66    09  2015       WV02       0.488            0   \n",
       "8  1030050045F8F200     76    09  2015       WV02       1.869            0   \n",
       "9  1030050045F8F400     85    09  2015       WV02       0.498            0   \n",
       "\n",
       "    overlap  check  \n",
       "0  0.417835   True  \n",
       "1  0.350534   True  \n",
       "2  0.304551   True  \n",
       "3  0.213803   True  \n",
       "4  0.752735   True  \n",
       "5  0.618855   True  \n",
       "6  0.352168   True  \n",
       "7  0.440252   True  \n",
       "8  0.417426   True  \n",
       "9  0.216242   True  "
      ]
     },
     "execution_count": 106,
     "metadata": {},
     "output_type": "execute_result"
    }
   ],
   "source": [
    "selection_images"
   ]
  },
  {
   "cell_type": "code",
   "execution_count": 83,
   "metadata": {},
   "outputs": [
    {
     "ename": "TypeError",
     "evalue": "box() takes at least 4 arguments (1 given)",
     "output_type": "error",
     "traceback": [
      "\u001b[0;31m\u001b[0m",
      "\u001b[0;31mTypeError\u001b[0mTraceback (most recent call last)",
      "\u001b[0;32m<ipython-input-83-69b1199e19fc>\u001b[0m in \u001b[0;36m<module>\u001b[0;34m()\u001b[0m\n\u001b[0;32m----> 1\u001b[0;31m \u001b[0mbox\u001b[0m\u001b[0;34m(\u001b[0m\u001b[0mrb\u001b[0m\u001b[0;34m)\u001b[0m\u001b[0;34m\u001b[0m\u001b[0m\n\u001b[0m",
      "\u001b[0;31mTypeError\u001b[0m: box() takes at least 4 arguments (1 given)"
     ]
    }
   ],
   "source": [
    "box(rb)"
   ]
  },
  {
   "cell_type": "code",
   "execution_count": 89,
   "metadata": {},
   "outputs": [
    {
     "data": {
      "text/plain": [
       "<Figure size 450x450 with 0 Axes>"
      ]
     },
     "metadata": {},
     "output_type": "display_data"
    }
   ],
   "source": [
    "        \n",
    "        fig = plt.figure(1, figsize=(5,5), dpi=90)"
   ]
  },
  {
   "cell_type": "code",
   "execution_count": 91,
   "metadata": {},
   "outputs": [
    {
     "data": {
      "text/plain": [
       "10"
      ]
     },
     "execution_count": 91,
     "metadata": {},
     "output_type": "execute_result"
    }
   ],
   "source": [
    "len()"
   ]
  }
 ],
 "metadata": {
  "kernelspec": {
   "display_name": "Python 2",
   "language": "python",
   "name": "python2"
  },
  "language_info": {
   "codemirror_mode": {
    "name": "ipython",
    "version": 2
   },
   "file_extension": ".py",
   "mimetype": "text/x-python",
   "name": "python",
   "nbconvert_exporter": "python",
   "pygments_lexer": "ipython2",
   "version": "2.7.14"
  }
 },
 "nbformat": 4,
 "nbformat_minor": 2
}
